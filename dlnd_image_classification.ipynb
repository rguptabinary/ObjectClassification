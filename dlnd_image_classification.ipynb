{
 "cells": [
  {
   "cell_type": "markdown",
   "metadata": {
    "collapsed": true
   },
   "source": [
    "# Image Classification\n",
    "In this project, you'll classify images from the [CIFAR-10 dataset](https://www.cs.toronto.edu/~kriz/cifar.html).  The dataset consists of airplanes, dogs, cats, and other objects. You'll preprocess the images, then train a convolutional neural network on all the samples. The images need to be normalized and the labels need to be one-hot encoded.  You'll get to apply what you learned and build a convolutional, max pooling, dropout, and fully connected layers.  At the end, you'll get to see your neural network's predictions on the sample images.\n",
    "## Get the Data\n",
    "Run the following cell to download the [CIFAR-10 dataset for python](https://www.cs.toronto.edu/~kriz/cifar-10-python.tar.gz)."
   ]
  },
  {
   "cell_type": "code",
   "execution_count": 1,
   "metadata": {},
   "outputs": [
    {
     "name": "stdout",
     "output_type": "stream",
     "text": [
      "All files found!\n"
     ]
    }
   ],
   "source": [
    "\"\"\"\n",
    "DON'T MODIFY ANYTHING IN THIS CELL THAT IS BELOW THIS LINE\n",
    "\"\"\"\n",
    "from urllib.request import urlretrieve\n",
    "from os.path import isfile, isdir\n",
    "from tqdm import tqdm\n",
    "import problem_unittests as tests\n",
    "import tarfile\n",
    "\n",
    "cifar10_dataset_folder_path = 'cifar-10-batches-py'\n",
    "\n",
    "# Use Floyd's cifar-10 dataset if present\n",
    "floyd_cifar10_location = '/input/cifar-10/python.tar.gz'\n",
    "if isfile(floyd_cifar10_location):\n",
    "    tar_gz_path = floyd_cifar10_location\n",
    "else:\n",
    "    tar_gz_path = 'cifar-10-python.tar.gz'\n",
    "\n",
    "class DLProgress(tqdm):\n",
    "    last_block = 0\n",
    "\n",
    "    def hook(self, block_num=1, block_size=1, total_size=None):\n",
    "        self.total = total_size\n",
    "        self.update((block_num - self.last_block) * block_size)\n",
    "        self.last_block = block_num\n",
    "\n",
    "if not isfile(tar_gz_path):\n",
    "    with DLProgress(unit='B', unit_scale=True, miniters=1, desc='CIFAR-10 Dataset') as pbar:\n",
    "        urlretrieve(\n",
    "            'https://www.cs.toronto.edu/~kriz/cifar-10-python.tar.gz',\n",
    "            tar_gz_path,\n",
    "            pbar.hook)\n",
    "\n",
    "if not isdir(cifar10_dataset_folder_path):\n",
    "    with tarfile.open(tar_gz_path) as tar:\n",
    "        tar.extractall()\n",
    "        tar.close()\n",
    "\n",
    "\n",
    "tests.test_folder_path(cifar10_dataset_folder_path)"
   ]
  },
  {
   "cell_type": "markdown",
   "metadata": {},
   "source": [
    "## Explore the Data\n",
    "The dataset is broken into batches to prevent your machine from running out of memory.  The CIFAR-10 dataset consists of 5 batches, named `data_batch_1`, `data_batch_2`, etc.. Each batch contains the labels and images that are one of the following:\n",
    "* airplane\n",
    "* automobile\n",
    "* bird\n",
    "* cat\n",
    "* deer\n",
    "* dog\n",
    "* frog\n",
    "* horse\n",
    "* ship\n",
    "* truck\n",
    "\n",
    "Understanding a dataset is part of making predictions on the data.  Play around with the code cell below by changing the `batch_id` and `sample_id`. The `batch_id` is the id for a batch (1-5). The `sample_id` is the id for a image and label pair in the batch.\n",
    "\n",
    "Ask yourself \"What are all possible labels?\", \"What is the range of values for the image data?\", \"Are the labels in order or random?\".  Answers to questions like these will help you preprocess the data and end up with better predictions."
   ]
  },
  {
   "cell_type": "code",
   "execution_count": 2,
   "metadata": {},
   "outputs": [
    {
     "name": "stdout",
     "output_type": "stream",
     "text": [
      "\n",
      "Stats of batch 1:\n",
      "Samples: 10000\n",
      "Label Counts: {0: 1005, 1: 974, 2: 1032, 3: 1016, 4: 999, 5: 937, 6: 1030, 7: 1001, 8: 1025, 9: 981}\n",
      "First 20 Labels: [6, 9, 9, 4, 1, 1, 2, 7, 8, 3, 4, 7, 7, 2, 9, 9, 9, 3, 2, 6]\n",
      "\n",
      "Example of Image 5:\n",
      "Image - Min Value: 0 Max Value: 252\n",
      "Image - Shape: (32, 32, 3)\n",
      "Label - Label Id: 1 Name: automobile\n"
     ]
    },
    {
     "data": {
      "image/png": "[encoded data removed]",
      "text/plain": [
       "<matplotlib.figure.Figure at 0x2a3a76b9dd8>"
      ]
     },
     "metadata": {
      "image/png": {
       "height": 250,
       "width": 253
      }
     },
     "output_type": "display_data"
    }
   ],
   "source": [
    "%matplotlib inline\n",
    "%config InlineBackend.figure_format = 'retina'\n",
    "\n",
    "import helper\n",
    "import numpy as np\n",
    "\n",
    "# Explore the dataset\n",
    "batch_id = 1\n",
    "sample_id = 5\n",
    "helper.display_stats(cifar10_dataset_folder_path, batch_id, sample_id)"
   ]
  },
  {
   "cell_type": "markdown",
   "metadata": {},
   "source": [
    "## Implement Preprocess Functions\n",
    "### Normalize\n",
    "In the cell below, implement the `normalize` function to take in image data, `x`, and return it as a normalized Numpy array. The values should be in the range of 0 to 1, inclusive.  The return object should be the same shape as `x`."
   ]
  },
  {
   "cell_type": "code",
   "execution_count": 3,
   "metadata": {},
   "outputs": [
    {
     "name": "stdout",
     "output_type": "stream",
     "text": [
      "Tests Passed\n"
     ]
    }
   ],
   "source": [
    "def normalize(x):\n",
    "    \"\"\"\n",
    "    Normalize a list of sample image data in the range of 0 to 1\n",
    "    : x: List of image data.  The image shape is (32, 32, 3)\n",
    "    : return: Numpy array of normalize data\n",
    "    \"\"\"\n",
    "    # TODO: Implement Function\n",
    "    return x/255\n",
    "\n",
    "\n",
    "\"\"\"\n",
    "DON'T MODIFY ANYTHING IN THIS CELL THAT IS BELOW THIS LINE\n",
    "\"\"\"\n",
    "tests.test_normalize(normalize)"
   ]
  },
  {
   "cell_type": "markdown",
   "metadata": {},
   "source": [
    "### One-hot encode\n",
    "Just like the previous code cell, you'll be implementing a function for preprocessing.  This time, you'll implement the `one_hot_encode` function. The input, `x`, are a list of labels.  Implement the function to return the list of labels as One-Hot encoded Numpy array.  The possible values for labels are 0 to 9. The one-hot encoding function should return the same encoding for each value between each call to `one_hot_encode`.  Make sure to save the map of encodings outside the function.\n",
    "\n",
    "Hint: Don't reinvent the wheel."
   ]
  },
  {
   "cell_type": "code",
   "execution_count": 4,
   "metadata": {},
   "outputs": [
    {
     "name": "stdout",
     "output_type": "stream",
     "text": [
      "Tests Passed\n"
     ]
    }
   ],
   "source": [
    "def one_hot_encode(x):\n",
    "    \"\"\"\n",
    "    One hot encode a list of sample labels. Return a one-hot encoded vector for each label.\n",
    "    : x: List of sample Labels\n",
    "    : return: Numpy array of one-hot encoded labels\n",
    "    \"\"\"\n",
    "    # TODO: Implement Function\n",
    "    # creating a 10*10 matrix with diagonal as 1 and returning row = x\n",
    "    return np.eye(10)[x]\n",
    "\n",
    "one_hot_mapping = {}\n",
    "\n",
    "def get_one_hot_map(x):\n",
    "    if x in one_hot_mapping:\n",
    "        return one_hot_mapping[x]\n",
    "    result = one_hot_encode(x)\n",
    "    one_hot_mapping[x] = result\n",
    "    return result\n",
    "\n",
    "\"\"\"\n",
    "DON'T MODIFY ANYTHING IN THIS CELL THAT IS BELOW THIS LINE\n",
    "\"\"\"\n",
    "tests.test_one_hot_encode(one_hot_encode) "
   ]
  },
  {
   "cell_type": "markdown",
   "metadata": {},
   "source": [
    "### Randomize Data\n",
    "As you saw from exploring the data above, the order of the samples are randomized.  It doesn't hurt to randomize it again, but you don't need to for this dataset."
   ]
  },
  {
   "cell_type": "markdown",
   "metadata": {},
   "source": [
    "## Preprocess all the data and save it\n",
    "Running the code cell below will preprocess all the CIFAR-10 data and save it to file. The code below also uses 10% of the training data for validation."
   ]
  },
  {
   "cell_type": "code",
   "execution_count": 5,
   "metadata": {
    "collapsed": true
   },
   "outputs": [],
   "source": [
    "\"\"\"\n",
    "DON'T MODIFY ANYTHING IN THIS CELL\n",
    "\"\"\"\n",
    "# Preprocess Training, Validation, and Testing Data\n",
    "helper.preprocess_and_save_data(cifar10_dataset_folder_path, normalize, one_hot_encode)"
   ]
  },
  {
   "cell_type": "markdown",
   "metadata": {},
   "source": [
    "# Check Point\n",
    "This is your first checkpoint.  If you ever decide to come back to this notebook or have to restart the notebook, you can start from here.  The preprocessed data has been saved to disk."
   ]
  },
  {
   "cell_type": "code",
   "execution_count": 6,
   "metadata": {
    "collapsed": true
   },
   "outputs": [],
   "source": [
    "\"\"\"\n",
    "DON'T MODIFY ANYTHING IN THIS CELL\n",
    "\"\"\"\n",
    "import pickle\n",
    "import problem_unittests as tests\n",
    "import helper\n",
    "\n",
    "# Load the Preprocessed Validation data\n",
    "valid_features, valid_labels = pickle.load(open('preprocess_validation.p', mode='rb'))"
   ]
  },
  {
   "cell_type": "markdown",
   "metadata": {},
   "source": [
    "## Build the network\n",
    "For the neural network, you'll build each layer into a function.  Most of the code you've seen has been outside of functions. To test your code more thoroughly, we require that you put each layer in a function.  This allows us to give you better feedback and test for simple mistakes using our unittests before you submit your project.\n",
    "\n",
    ">**Note:** If you're finding it hard to dedicate enough time for this course each week, we've provided a small shortcut to this part of the project. In the next couple of problems, you'll have the option to use classes from the [TensorFlow Layers](https://www.tensorflow.org/api_docs/python/tf/layers) or [TensorFlow Layers (contrib)](https://www.tensorflow.org/api_guides/python/contrib.layers) packages to build each layer, except the layers you build in the \"Convolutional and Max Pooling Layer\" section.  TF Layers is similar to Keras's and TFLearn's abstraction to layers, so it's easy to pickup.\n",
    "\n",
    ">However, if you would like to get the most out of this course, try to solve all the problems _without_ using anything from the TF Layers packages. You **can** still use classes from other packages that happen to have the same name as ones you find in TF Layers! For example, instead of using the TF Layers version of the `conv2d` class, [tf.layers.conv2d](https://www.tensorflow.org/api_docs/python/tf/layers/conv2d), you would want to use the TF Neural Network version of `conv2d`, [tf.nn.conv2d](https://www.tensorflow.org/api_docs/python/tf/nn/conv2d). \n",
    "\n",
    "Let's begin!\n",
    "\n",
    "### Input\n",
    "The neural network needs to read the image data, one-hot encoded labels, and dropout keep probability. Implement the following functions\n",
    "* Implement `neural_net_image_input`\n",
    " * Return a [TF Placeholder](https://www.tensorflow.org/api_docs/python/tf/placeholder)\n",
    " * Set the shape using `image_shape` with batch size set to `None`.\n",
    " * Name the TensorFlow placeholder \"x\" using the TensorFlow `name` parameter in the [TF Placeholder](https://www.tensorflow.org/api_docs/python/tf/placeholder).\n",
    "* Implement `neural_net_label_input`\n",
    " * Return a [TF Placeholder](https://www.tensorflow.org/api_docs/python/tf/placeholder)\n",
    " * Set the shape using `n_classes` with batch size set to `None`.\n",
    " * Name the TensorFlow placeholder \"y\" using the TensorFlow `name` parameter in the [TF Placeholder](https://www.tensorflow.org/api_docs/python/tf/placeholder).\n",
    "* Implement `neural_net_keep_prob_input`\n",
    " * Return a [TF Placeholder](https://www.tensorflow.org/api_docs/python/tf/placeholder) for dropout keep probability.\n",
    " * Name the TensorFlow placeholder \"keep_prob\" using the TensorFlow `name` parameter in the [TF Placeholder](https://www.tensorflow.org/api_docs/python/tf/placeholder).\n",
    "\n",
    "These names will be used at the end of the project to load your saved model.\n",
    "\n",
    "Note: `None` for shapes in TensorFlow allow for a dynamic size."
   ]
  },
  {
   "cell_type": "code",
   "execution_count": 7,
   "metadata": {},
   "outputs": [
    {
     "name": "stdout",
     "output_type": "stream",
     "text": [
      "Image Input Tests Passed.\n",
      "Label Input Tests Passed.\n",
      "Keep Prob Tests Passed.\n"
     ]
    }
   ],
   "source": [
    "import tensorflow as tf\n",
    "\n",
    "def neural_net_image_input(image_shape):\n",
    "    \"\"\"\n",
    "    Return a Tensor for a batch of image input\n",
    "    : image_shape: Shape of the images\n",
    "    : return: Tensor for image input.\n",
    "    \"\"\"\n",
    "    # TODO: Implement Function\n",
    "    return tf.placeholder(dtype=tf.float32, shape=[None, image_shape[0], image_shape[1], image_shape[2]], name='x')\n",
    "\n",
    "\n",
    "def neural_net_label_input(n_classes):\n",
    "    \"\"\"\n",
    "    Return a Tensor for a batch of label input\n",
    "    : n_classes: Number of classes\n",
    "    : return: Tensor for label input.\n",
    "    \"\"\"\n",
    "    # TODO: Implement Function\n",
    "    return tf.placeholder(dtype=tf.float32, shape=[None, n_classes], name='y')\n",
    "\n",
    "\n",
    "def neural_net_keep_prob_input():\n",
    "    \"\"\"\n",
    "    Return a Tensor for keep probability\n",
    "    : return: Tensor for keep probability.\n",
    "    \"\"\"\n",
    "    # TODO: Implement Function\n",
    "    return tf.placeholder(dtype=tf.float32, name='keep_prob')\n",
    "\n",
    "\n",
    "\"\"\"\n",
    "DON'T MODIFY ANYTHING IN THIS CELL THAT IS BELOW THIS LINE\n",
    "\"\"\"\n",
    "tf.reset_default_graph()\n",
    "tests.test_nn_image_inputs(neural_net_image_input)\n",
    "tests.test_nn_label_inputs(neural_net_label_input)\n",
    "tests.test_nn_keep_prob_inputs(neural_net_keep_prob_input)"
   ]
  },
  {
   "cell_type": "markdown",
   "metadata": {},
   "source": [
    "### Convolution and Max Pooling Layer\n",
    "Convolution layers have a lot of success with images. For this code cell, you should implement the function `conv2d_maxpool` to apply convolution then max pooling:\n",
    "* Create the weight and bias using `conv_ksize`, `conv_num_outputs` and the shape of `x_tensor`.\n",
    "* Apply a convolution to `x_tensor` using weight and `conv_strides`.\n",
    " * We recommend you use same padding, but you're welcome to use any padding.\n",
    "* Add bias\n",
    "* Add a nonlinear activation to the convolution.\n",
    "* Apply Max Pooling using `pool_ksize` and `pool_strides`.\n",
    " * We recommend you use same padding, but you're welcome to use any padding.\n",
    "\n",
    "**Note:** You **can't** use [TensorFlow Layers](https://www.tensorflow.org/api_docs/python/tf/layers) or [TensorFlow Layers (contrib)](https://www.tensorflow.org/api_guides/python/contrib.layers) for **this** layer, but you can still use TensorFlow's [Neural Network](https://www.tensorflow.org/api_docs/python/tf/nn) package. You may still use the shortcut option for all the **other** layers."
   ]
  },
  {
   "cell_type": "code",
   "execution_count": 8,
   "metadata": {},
   "outputs": [
    {
     "name": "stdout",
     "output_type": "stream",
     "text": [
      "Tests Passed\n"
     ]
    }
   ],
   "source": [
    "def conv2d_maxpool(x_tensor, conv_num_outputs, conv_ksize, conv_strides, pool_ksize, pool_strides):\n",
    "    \"\"\"\n",
    "    Apply convolution then max pooling to x_tensor\n",
    "    :param x_tensor: TensorFlow Tensor\n",
    "    :param conv_num_outputs: Number of outputs for the convolutional layer\n",
    "    :param conv_ksize: kernal size 2-D Tuple for the convolutional layer\n",
    "    :param conv_strides: Stride 2-D Tuple for convolution\n",
    "    :param pool_ksize: kernal size 2-D Tuple for pool\n",
    "    :param pool_strides: Stride 2-D Tuple for pool\n",
    "    : return: A tensor that represents convolution and max pooling of x_tensor\n",
    "    \"\"\"\n",
    "    # TODO: Implement Function\n",
    "\n",
    "    x_shape = x_tensor.get_shape().as_list()\n",
    "\n",
    "    weights = tf.Variable(tf.truncated_normal([conv_ksize[0],\n",
    "                                            conv_ksize[1],\n",
    "                                            x_shape[3],\n",
    "                                            conv_num_outputs],\n",
    "                                            stddev=0.1\n",
    "                                          ))\n",
    "\n",
    "    biases = tf.Variable(tf.zeros(shape=conv_num_outputs, dtype=tf.float32))\n",
    "\n",
    "    layer = tf.nn.conv2d(input=x_tensor,\n",
    "                         filter=weights,\n",
    "                         strides=[1, conv_strides[0], conv_strides[1], 1],\n",
    "                         padding='SAME')\n",
    "\n",
    "    layer = tf.add(layer, biases)\n",
    "    \n",
    "    # relu(max_pool(x)) == max_pool(relu(x)) we can save 75% of the relu-operations by max-pooling first.\n",
    "    \n",
    "    layer = tf.nn.max_pool(value=layer, \n",
    "                           ksize=[1, pool_ksize[0], pool_ksize[1], 1],\n",
    "                           strides=[1,pool_strides[0], pool_strides[1], 1],\n",
    "                           padding='SAME')\n",
    "\n",
    "    layer = tf.nn.relu(layer)\n",
    "\n",
    "    return layer \n",
    "\n",
    "\n",
    "\"\"\"\n",
    "DON'T MODIFY ANYTHING IN THIS CELL THAT IS BELOW THIS LINE\n",
    "\"\"\"\n",
    "tests.test_con_pool(conv2d_maxpool)"
   ]
  },
  {
   "cell_type": "markdown",
   "metadata": {},
   "source": [
    "### Flatten Layer\n",
    "Implement the `flatten` function to change the dimension of `x_tensor` from a 4-D tensor to a 2-D tensor.  The output should be the shape (*Batch Size*, *Flattened Image Size*). Shortcut option: you can use classes from the [TensorFlow Layers](https://www.tensorflow.org/api_docs/python/tf/layers) or [TensorFlow Layers (contrib)](https://www.tensorflow.org/api_guides/python/contrib.layers) packages for this layer. For more of a challenge, only use other TensorFlow packages."
   ]
  },
  {
   "cell_type": "code",
   "execution_count": 9,
   "metadata": {},
   "outputs": [
    {
     "name": "stdout",
     "output_type": "stream",
     "text": [
      "Tests Passed\n"
     ]
    }
   ],
   "source": [
    "def flatten(x_tensor):\n",
    "    \"\"\"\n",
    "    Flatten x_tensor to (Batch Size, Flattened Image Size)\n",
    "    : x_tensor: A tensor of size (Batch Size, ...), where ... are the image dimensions.\n",
    "    : return: A tensor of size (Batch Size, Flattened Image Size).\n",
    "    \"\"\"\n",
    "    # TODO: Implement Function\n",
    "    shape = x_tensor.get_shape()\n",
    "    \n",
    "    return tf.reshape(x_tensor, [-1, shape[1:4].num_elements()])\n",
    "\n",
    "\n",
    "\"\"\"\n",
    "DON'T MODIFY ANYTHING IN THIS CELL THAT IS BELOW THIS LINE\n",
    "\"\"\"\n",
    "tests.test_flatten(flatten)"
   ]
  },
  {
   "cell_type": "markdown",
   "metadata": {},
   "source": [
    "### Fully-Connected Layer\n",
    "Implement the `fully_conn` function to apply a fully connected layer to `x_tensor` with the shape (*Batch Size*, *num_outputs*). Shortcut option: you can use classes from the [TensorFlow Layers](https://www.tensorflow.org/api_docs/python/tf/layers) or [TensorFlow Layers (contrib)](https://www.tensorflow.org/api_guides/python/contrib.layers) packages for this layer. For more of a challenge, only use other TensorFlow packages."
   ]
  },
  {
   "cell_type": "code",
   "execution_count": 10,
   "metadata": {},
   "outputs": [
    {
     "name": "stdout",
     "output_type": "stream",
     "text": [
      "Tests Passed\n"
     ]
    }
   ],
   "source": [
    "def fully_conn(x_tensor, num_outputs):\n",
    "    \"\"\"\n",
    "    Apply a fully connected layer to x_tensor using weight and bias\n",
    "    : x_tensor: A 2-D tensor where the first dimension is batch size.\n",
    "    : num_outputs: The number of output that the new tensor should be.\n",
    "    : return: A 2-D tensor where the second dimension is num_outputs.\n",
    "    \"\"\"\n",
    "    # TODO: Implement Function\n",
    "    weights = tf.Variable(tf.truncated_normal([x_tensor.get_shape().as_list()[1], num_outputs], stddev=0.1))\n",
    "    \n",
    "    biases = tf.Variable(tf.zeros(shape=[num_outputs], dtype=tf.float32))\n",
    "    \n",
    "    fc = tf.add(tf.matmul(x_tensor, weights), biases)\n",
    "    \n",
    "    #with non-linear activation\n",
    "    return tf.nn.relu(fc)\n",
    "\n",
    "\n",
    "\"\"\"\n",
    "DON'T MODIFY ANYTHING IN THIS CELL THAT IS BELOW THIS LINE\n",
    "\"\"\"\n",
    "tests.test_fully_conn(fully_conn)"
   ]
  },
  {
   "cell_type": "markdown",
   "metadata": {},
   "source": [
    "### Output Layer\n",
    "Implement the `output` function to apply a fully connected layer to `x_tensor` with the shape (*Batch Size*, *num_outputs*). Shortcut option: you can use classes from the [TensorFlow Layers](https://www.tensorflow.org/api_docs/python/tf/layers) or [TensorFlow Layers (contrib)](https://www.tensorflow.org/api_guides/python/contrib.layers) packages for this layer. For more of a challenge, only use other TensorFlow packages.\n",
    "\n",
    "**Note:** Activation, softmax, or cross entropy should **not** be applied to this."
   ]
  },
  {
   "cell_type": "code",
   "execution_count": 11,
   "metadata": {},
   "outputs": [
    {
     "name": "stdout",
     "output_type": "stream",
     "text": [
      "Tests Passed\n"
     ]
    }
   ],
   "source": [
    "def output(x_tensor, num_outputs):\n",
    "    \"\"\"\n",
    "    Apply a output layer to x_tensor using weight and bias\n",
    "    : x_tensor: A 2-D tensor where the first dimension is batch size.\n",
    "    : num_outputs: The number of output that the new tensor should be.\n",
    "    : return: A 2-D tensor where the second dimension is num_outputs.\n",
    "    \"\"\"\n",
    "    # TODO: Implement Function\n",
    "    \n",
    "    weights = tf.Variable(tf.truncated_normal([x_tensor.get_shape().as_list()[1], num_outputs], stddev=0.1))\n",
    "    \n",
    "    biases = tf.Variable(tf.zeros(shape=[num_outputs], dtype=tf.float32))\n",
    "    \n",
    "    #with linear activation\n",
    "    return tf.add(tf.matmul(x_tensor, weights), biases)\n",
    "\n",
    "\n",
    "\"\"\"\n",
    "DON'T MODIFY ANYTHING IN THIS CELL THAT IS BELOW THIS LINE\n",
    "\"\"\"\n",
    "tests.test_output(output)"
   ]
  },
  {
   "cell_type": "markdown",
   "metadata": {},
   "source": [
    "### Create Convolutional Model\n",
    "Implement the function `conv_net` to create a convolutional neural network model. The function takes in a batch of images, `x`, and outputs logits.  Use the layers you created above to create this model:\n",
    "\n",
    "* Apply 1, 2, or 3 Convolution and Max Pool layers\n",
    "* Apply a Flatten Layer\n",
    "* Apply 1, 2, or 3 Fully Connected Layers\n",
    "* Apply an Output Layer\n",
    "* Return the output\n",
    "* Apply [TensorFlow's Dropout](https://www.tensorflow.org/api_docs/python/tf/nn/dropout) to one or more layers in the model using `keep_prob`. "
   ]
  },
  {
   "cell_type": "code",
   "execution_count": 12,
   "metadata": {},
   "outputs": [
    {
     "name": "stdout",
     "output_type": "stream",
     "text": [
      "Neural Network Built!\n"
     ]
    }
   ],
   "source": [
    "def conv_net(x, keep_prob):\n",
    "    \"\"\"\n",
    "    Create a convolutional neural network model\n",
    "    : x: Placeholder tensor that holds image data.\n",
    "    : keep_prob: Placeholder tensor that hold dropout keep probability.\n",
    "    : return: Tensor that represents logits\n",
    "    \"\"\"\n",
    "    # TODO: Apply 1, 2, or 3 Convolution and Max Pool layers\n",
    "    #    Play around with different number of outputs, kernel size and stride\n",
    "    # Function Definition from Above:\n",
    "    #    conv2d_maxpool(x_tensor, conv_num_outputs, conv_ksize, conv_strides, pool_ksize, pool_strides)\n",
    "    \n",
    "    layer = conv2d_maxpool(x, 8, (5,5), (1,1), (2,2), (2,2))\n",
    "    \n",
    "    layer = conv2d_maxpool(layer, 16, (4,4), (1,1), (2,2), (2,2))\n",
    "    \n",
    "    layer = conv2d_maxpool(layer, 36, (3,3), (1,1), (2,2), (2,2))\n",
    "    \n",
    "    # TODO: Apply a Flatten Layer\n",
    "    # Function Definition from Above:\n",
    "    #   flatten(x_tensor)\n",
    "    \n",
    "    layer = flatten(layer)\n",
    "\n",
    "    # TODO: Apply 1, 2, or 3 Fully Connected Layers\n",
    "    #    Play around with different number of outputs\n",
    "    # Function Definition from Above:\n",
    "    #   fully_conn(x_tensor, num_outputs)\n",
    "    \n",
    "    layer = fully_conn(layer, 1024)\n",
    "    layer = tf.nn.dropout(layer, keep_prob=keep_prob)\n",
    "    \n",
    "    layer = fully_conn(layer, 512)\n",
    "    layer = tf.nn.dropout(layer, keep_prob=keep_prob)\n",
    "    \n",
    "    layer = fully_conn(layer, 256)\n",
    "    layer = tf.nn.dropout(layer, keep_prob=keep_prob)\n",
    "    \n",
    "    # TODO: Apply an Output Layer\n",
    "    #    Set this to the number of classes\n",
    "    # Function Definition from Above:\n",
    "    #   output(x_tensor, num_outputs)\n",
    "    \n",
    "    layer = output(layer, 10)\n",
    "    \n",
    "    # TODO: return output\n",
    "    return layer\n",
    "\n",
    "\n",
    "\"\"\"\n",
    "DON'T MODIFY ANYTHING IN THIS CELL THAT IS BELOW THIS LINE\n",
    "\"\"\"\n",
    "\n",
    "##############################\n",
    "## Build the Neural Network ##\n",
    "##############################\n",
    "\n",
    "# Remove previous weights, bias, inputs, etc..\n",
    "tf.reset_default_graph()\n",
    "\n",
    "# Inputs\n",
    "x = neural_net_image_input((32, 32, 3))\n",
    "y = neural_net_label_input(10)\n",
    "keep_prob = neural_net_keep_prob_input()\n",
    "\n",
    "# Model\n",
    "logits = conv_net(x, keep_prob)\n",
    "\n",
    "# Name logits Tensor, so that is can be loaded from disk after training\n",
    "logits = tf.identity(logits, name='logits')\n",
    "\n",
    "# Loss and Optimizer\n",
    "cost = tf.reduce_mean(tf.nn.softmax_cross_entropy_with_logits(logits=logits, labels=y))\n",
    "optimizer = tf.train.AdamOptimizer().minimize(cost)\n",
    "\n",
    "# Accuracy\n",
    "correct_pred = tf.equal(tf.argmax(logits, 1), tf.argmax(y, 1))\n",
    "accuracy = tf.reduce_mean(tf.cast(correct_pred, tf.float32), name='accuracy')\n",
    "\n",
    "tests.test_conv_net(conv_net)"
   ]
  },
  {
   "cell_type": "markdown",
   "metadata": {},
   "source": [
    "## Train the Neural Network\n",
    "### Single Optimization\n",
    "Implement the function `train_neural_network` to do a single optimization.  The optimization should use `optimizer` to optimize in `session` with a `feed_dict` of the following:\n",
    "* `x` for image input\n",
    "* `y` for labels\n",
    "* `keep_prob` for keep probability for dropout\n",
    "\n",
    "This function will be called for each batch, so `tf.global_variables_initializer()` has already been called.\n",
    "\n",
    "Note: Nothing needs to be returned. This function is only optimizing the neural network."
   ]
  },
  {
   "cell_type": "code",
   "execution_count": 13,
   "metadata": {},
   "outputs": [
    {
     "name": "stdout",
     "output_type": "stream",
     "text": [
      "Tests Passed\n"
     ]
    }
   ],
   "source": [
    "def train_neural_network(session, optimizer, keep_probability, feature_batch, label_batch):\n",
    "    \"\"\"\n",
    "    Optimize the session on a batch of images and labels\n",
    "    : session: Current TensorFlow session\n",
    "    : optimizer: TensorFlow optimizer function\n",
    "    : keep_probability: keep probability\n",
    "    : feature_batch: Batch of Numpy image data\n",
    "    : label_batch: Batch of Numpy label data\n",
    "    \"\"\"\n",
    "    # TODO: Implement Function\n",
    "    session.run(optimizer, feed_dict={x: feature_batch, y:label_batch, keep_prob: keep_probability})\n",
    "\n",
    "\n",
    "\"\"\"\n",
    "DON'T MODIFY ANYTHING IN THIS CELL THAT IS BELOW THIS LINE\n",
    "\"\"\"\n",
    "tests.test_train_nn(train_neural_network)"
   ]
  },
  {
   "cell_type": "markdown",
   "metadata": {},
   "source": [
    "### Show Stats\n",
    "Implement the function `print_stats` to print loss and validation accuracy.  Use the global variables `valid_features` and `valid_labels` to calculate validation accuracy.  Use a keep probability of `1.0` to calculate the loss and validation accuracy."
   ]
  },
  {
   "cell_type": "code",
   "execution_count": 14,
   "metadata": {
    "collapsed": true
   },
   "outputs": [],
   "source": [
    "def print_stats(session, feature_batch, label_batch, cost, accuracy):\n",
    "    \"\"\"\n",
    "    Print information about loss and validation accuracy\n",
    "    : session: Current TensorFlow session\n",
    "    : feature_batch: Batch of Numpy image data\n",
    "    : label_batch: Batch of Numpy label data\n",
    "    : cost: TensorFlow cost function\n",
    "    : accuracy: TensorFlow accuracy function\n",
    "    \"\"\"\n",
    "    loss = session.run(cost, feed_dict={x:feature_batch, y:label_batch, keep_prob:1.0}) \n",
    "    \n",
    "    acc = session.run(accuracy, feed_dict={x:valid_features, y:valid_labels, keep_prob:1.0})\n",
    "    \n",
    "    print('loss=%f validation accuracy=%f' %(loss, acc))\n"
   ]
  },
  {
   "cell_type": "markdown",
   "metadata": {},
   "source": [
    "### Hyperparameters\n",
    "Tune the following parameters:\n",
    "* Set `epochs` to the number of iterations until the network stops learning or start overfitting\n",
    "* Set `batch_size` to the highest number that your machine has memory for.  Most people set them to common sizes of memory:\n",
    " * 64\n",
    " * 128\n",
    " * 256\n",
    " * ...\n",
    "* Set `keep_probability` to the probability of keeping a node using dropout"
   ]
  },
  {
   "cell_type": "code",
   "execution_count": 15,
   "metadata": {
    "collapsed": true
   },
   "outputs": [],
   "source": [
    "# TODO: Tune Parameters\n",
    "epochs = 25\n",
    "batch_size = 512\n",
    "keep_probability = .5"
   ]
  },
  {
   "cell_type": "markdown",
   "metadata": {},
   "source": [
    "### Train on a Single CIFAR-10 Batch\n",
    "Instead of training the neural network on all the CIFAR-10 batches of data, let's use a single batch. This should save time while you iterate on the model to get a better accuracy.  Once the final validation accuracy is 50% or greater, run the model on all the data in the next section."
   ]
  },
  {
   "cell_type": "code",
   "execution_count": 16,
   "metadata": {},
   "outputs": [
    {
     "name": "stdout",
     "output_type": "stream",
     "text": [
      "Checking the Training on a Single Batch...\n",
      "Epoch  1, CIFAR-10 Batch 1:  loss=2.289861 validation accuracy=0.173000\n",
      "Epoch  2, CIFAR-10 Batch 1:  loss=2.222203 validation accuracy=0.222200\n",
      "Epoch  3, CIFAR-10 Batch 1:  loss=2.109098 validation accuracy=0.249800\n",
      "Epoch  4, CIFAR-10 Batch 1:  loss=2.050752 validation accuracy=0.288800\n",
      "Epoch  5, CIFAR-10 Batch 1:  loss=1.956297 validation accuracy=0.316600\n",
      "Epoch  6, CIFAR-10 Batch 1:  loss=1.848964 validation accuracy=0.343400\n",
      "Epoch  7, CIFAR-10 Batch 1:  loss=1.785808 validation accuracy=0.368800\n",
      "Epoch  8, CIFAR-10 Batch 1:  loss=1.706934 validation accuracy=0.396200\n",
      "Epoch  9, CIFAR-10 Batch 1:  loss=1.659233 validation accuracy=0.398600\n",
      "Epoch 10, CIFAR-10 Batch 1:  loss=1.584083 validation accuracy=0.424200\n",
      "Epoch 11, CIFAR-10 Batch 1:  loss=1.551103 validation accuracy=0.431400\n",
      "Epoch 12, CIFAR-10 Batch 1:  loss=1.485091 validation accuracy=0.441600\n",
      "Epoch 13, CIFAR-10 Batch 1:  loss=1.429022 validation accuracy=0.466600\n",
      "Epoch 14, CIFAR-10 Batch 1:  loss=1.371120 validation accuracy=0.472400\n",
      "Epoch 15, CIFAR-10 Batch 1:  loss=1.325893 validation accuracy=0.469600\n",
      "Epoch 16, CIFAR-10 Batch 1:  loss=1.266497 validation accuracy=0.481600\n",
      "Epoch 17, CIFAR-10 Batch 1:  loss=1.220996 validation accuracy=0.471600\n",
      "Epoch 18, CIFAR-10 Batch 1:  loss=1.190161 validation accuracy=0.481800\n",
      "Epoch 19, CIFAR-10 Batch 1:  loss=1.101320 validation accuracy=0.495600\n",
      "Epoch 20, CIFAR-10 Batch 1:  loss=1.061210 validation accuracy=0.492200\n",
      "Epoch 21, CIFAR-10 Batch 1:  loss=1.009660 validation accuracy=0.498600\n",
      "Epoch 22, CIFAR-10 Batch 1:  loss=0.961235 validation accuracy=0.505600\n",
      "Epoch 23, CIFAR-10 Batch 1:  loss=0.914879 validation accuracy=0.500400\n",
      "Epoch 24, CIFAR-10 Batch 1:  loss=0.864529 validation accuracy=0.497400\n",
      "Epoch 25, CIFAR-10 Batch 1:  loss=0.823379 validation accuracy=0.511000\n"
     ]
    }
   ],
   "source": [
    "\"\"\"\n",
    "DON'T MODIFY ANYTHING IN THIS CELL\n",
    "\"\"\"\n",
    "print('Checking the Training on a Single Batch...')\n",
    "with tf.Session() as sess:\n",
    "    # Initializing the variables\n",
    "    sess.run(tf.global_variables_initializer())\n",
    "    \n",
    "    # Training cycle\n",
    "    for epoch in range(epochs):\n",
    "        batch_i = 1\n",
    "        for batch_features, batch_labels in helper.load_preprocess_training_batch(batch_i, batch_size):\n",
    "            train_neural_network(sess, optimizer, keep_probability, batch_features, batch_labels)\n",
    "        print('Epoch {:>2}, CIFAR-10 Batch {}:  '.format(epoch + 1, batch_i), end='')\n",
    "        print_stats(sess, batch_features, batch_labels, cost, accuracy)"
   ]
  },
  {
   "cell_type": "markdown",
   "metadata": {},
   "source": [
    "### Fully Train the Model\n",
    "Now that you got a good accuracy with a single CIFAR-10 batch, try it with all five batches."
   ]
  },
  {
   "cell_type": "code",
   "execution_count": 17,
   "metadata": {},
   "outputs": [
    {
     "name": "stdout",
     "output_type": "stream",
     "text": [
      "Training...\n",
      "Epoch  1, CIFAR-10 Batch 1:  loss=2.247138 validation accuracy=0.221400\n",
      "Epoch  1, CIFAR-10 Batch 2:  loss=2.068165 validation accuracy=0.223800\n",
      "Epoch  1, CIFAR-10 Batch 3:  loss=1.966750 validation accuracy=0.283400\n",
      "Epoch  1, CIFAR-10 Batch 4:  loss=1.793998 validation accuracy=0.320200\n",
      "Epoch  1, CIFAR-10 Batch 5:  loss=1.752023 validation accuracy=0.356800\n",
      "Epoch  2, CIFAR-10 Batch 1:  loss=1.774964 validation accuracy=0.362400\n",
      "Epoch  2, CIFAR-10 Batch 2:  loss=1.609095 validation accuracy=0.425800\n",
      "Epoch  2, CIFAR-10 Batch 3:  loss=1.434959 validation accuracy=0.430600\n",
      "Epoch  2, CIFAR-10 Batch 4:  loss=1.432522 validation accuracy=0.443800\n",
      "Epoch  2, CIFAR-10 Batch 5:  loss=1.469387 validation accuracy=0.455000\n",
      "Epoch  3, CIFAR-10 Batch 1:  loss=1.503467 validation accuracy=0.463600\n",
      "Epoch  3, CIFAR-10 Batch 2:  loss=1.433988 validation accuracy=0.468600\n",
      "Epoch  3, CIFAR-10 Batch 3:  loss=1.213965 validation accuracy=0.487000\n",
      "Epoch  3, CIFAR-10 Batch 4:  loss=1.270378 validation accuracy=0.486000\n",
      "Epoch  3, CIFAR-10 Batch 5:  loss=1.333791 validation accuracy=0.491200\n",
      "Epoch  4, CIFAR-10 Batch 1:  loss=1.415087 validation accuracy=0.498000\n",
      "Epoch  4, CIFAR-10 Batch 2:  loss=1.328017 validation accuracy=0.495400\n",
      "Epoch  4, CIFAR-10 Batch 3:  loss=1.127826 validation accuracy=0.513800\n",
      "Epoch  4, CIFAR-10 Batch 4:  loss=1.163893 validation accuracy=0.518600\n",
      "Epoch  4, CIFAR-10 Batch 5:  loss=1.215878 validation accuracy=0.511200\n",
      "Epoch  5, CIFAR-10 Batch 1:  loss=1.319435 validation accuracy=0.520400\n",
      "Epoch  5, CIFAR-10 Batch 2:  loss=1.220495 validation accuracy=0.515400\n",
      "Epoch  5, CIFAR-10 Batch 3:  loss=1.062905 validation accuracy=0.528200\n",
      "Epoch  5, CIFAR-10 Batch 4:  loss=1.103668 validation accuracy=0.541600\n",
      "Epoch  5, CIFAR-10 Batch 5:  loss=1.138509 validation accuracy=0.538600\n",
      "Epoch  6, CIFAR-10 Batch 1:  loss=1.224394 validation accuracy=0.534000\n",
      "Epoch  6, CIFAR-10 Batch 2:  loss=1.143011 validation accuracy=0.549400\n",
      "Epoch  6, CIFAR-10 Batch 3:  loss=0.983451 validation accuracy=0.545400\n",
      "Epoch  6, CIFAR-10 Batch 4:  loss=1.020284 validation accuracy=0.555400\n",
      "Epoch  6, CIFAR-10 Batch 5:  loss=1.067954 validation accuracy=0.559000\n",
      "Epoch  7, CIFAR-10 Batch 1:  loss=1.161857 validation accuracy=0.557800\n",
      "Epoch  7, CIFAR-10 Batch 2:  loss=1.064095 validation accuracy=0.564800\n",
      "Epoch  7, CIFAR-10 Batch 3:  loss=0.906776 validation accuracy=0.568800\n",
      "Epoch  7, CIFAR-10 Batch 4:  loss=0.938391 validation accuracy=0.574400\n",
      "Epoch  7, CIFAR-10 Batch 5:  loss=1.017209 validation accuracy=0.576200\n",
      "Epoch  8, CIFAR-10 Batch 1:  loss=1.108990 validation accuracy=0.569200\n",
      "Epoch  8, CIFAR-10 Batch 2:  loss=1.020022 validation accuracy=0.573200\n",
      "Epoch  8, CIFAR-10 Batch 3:  loss=0.857889 validation accuracy=0.581400\n",
      "Epoch  8, CIFAR-10 Batch 4:  loss=0.872697 validation accuracy=0.590000\n",
      "Epoch  8, CIFAR-10 Batch 5:  loss=0.936901 validation accuracy=0.594000\n",
      "Epoch  9, CIFAR-10 Batch 1:  loss=1.038006 validation accuracy=0.597400\n",
      "Epoch  9, CIFAR-10 Batch 2:  loss=0.957908 validation accuracy=0.592200\n",
      "Epoch  9, CIFAR-10 Batch 3:  loss=0.784634 validation accuracy=0.599600\n",
      "Epoch  9, CIFAR-10 Batch 4:  loss=0.812085 validation accuracy=0.607600\n",
      "Epoch  9, CIFAR-10 Batch 5:  loss=0.908015 validation accuracy=0.595800\n",
      "Epoch 10, CIFAR-10 Batch 1:  loss=0.975540 validation accuracy=0.598800\n",
      "Epoch 10, CIFAR-10 Batch 2:  loss=0.868345 validation accuracy=0.608600\n",
      "Epoch 10, CIFAR-10 Batch 3:  loss=0.742441 validation accuracy=0.606400\n",
      "Epoch 10, CIFAR-10 Batch 4:  loss=0.775881 validation accuracy=0.612800\n",
      "Epoch 10, CIFAR-10 Batch 5:  loss=0.853549 validation accuracy=0.603000\n",
      "Epoch 11, CIFAR-10 Batch 1:  loss=0.919347 validation accuracy=0.602800\n",
      "Epoch 11, CIFAR-10 Batch 2:  loss=0.825523 validation accuracy=0.610200\n",
      "Epoch 11, CIFAR-10 Batch 3:  loss=0.716960 validation accuracy=0.621000\n",
      "Epoch 11, CIFAR-10 Batch 4:  loss=0.717189 validation accuracy=0.610400\n",
      "Epoch 11, CIFAR-10 Batch 5:  loss=0.782079 validation accuracy=0.621000\n",
      "Epoch 12, CIFAR-10 Batch 1:  loss=0.851843 validation accuracy=0.619200\n",
      "Epoch 12, CIFAR-10 Batch 2:  loss=0.782789 validation accuracy=0.620600\n",
      "Epoch 12, CIFAR-10 Batch 3:  loss=0.664678 validation accuracy=0.618000\n",
      "Epoch 12, CIFAR-10 Batch 4:  loss=0.679328 validation accuracy=0.623600\n",
      "Epoch 12, CIFAR-10 Batch 5:  loss=0.741449 validation accuracy=0.620800\n",
      "Epoch 13, CIFAR-10 Batch 1:  loss=0.822145 validation accuracy=0.629600\n",
      "Epoch 13, CIFAR-10 Batch 2:  loss=0.719555 validation accuracy=0.625800\n",
      "Epoch 13, CIFAR-10 Batch 3:  loss=0.619125 validation accuracy=0.627200\n",
      "Epoch 13, CIFAR-10 Batch 4:  loss=0.625230 validation accuracy=0.625200\n",
      "Epoch 13, CIFAR-10 Batch 5:  loss=0.708492 validation accuracy=0.632000\n",
      "Epoch 14, CIFAR-10 Batch 1:  loss=0.738641 validation accuracy=0.640800\n",
      "Epoch 14, CIFAR-10 Batch 2:  loss=0.696302 validation accuracy=0.634400\n",
      "Epoch 14, CIFAR-10 Batch 3:  loss=0.570697 validation accuracy=0.639000\n",
      "Epoch 14, CIFAR-10 Batch 4:  loss=0.561890 validation accuracy=0.634800\n",
      "Epoch 14, CIFAR-10 Batch 5:  loss=0.658486 validation accuracy=0.638200\n",
      "Epoch 15, CIFAR-10 Batch 1:  loss=0.674441 validation accuracy=0.637000\n",
      "Epoch 15, CIFAR-10 Batch 2:  loss=0.694994 validation accuracy=0.622200\n",
      "Epoch 15, CIFAR-10 Batch 3:  loss=0.562455 validation accuracy=0.641000\n",
      "Epoch 15, CIFAR-10 Batch 4:  loss=0.538012 validation accuracy=0.629000\n",
      "Epoch 15, CIFAR-10 Batch 5:  loss=0.627473 validation accuracy=0.633800\n",
      "Epoch 16, CIFAR-10 Batch 1:  loss=0.671710 validation accuracy=0.626600\n",
      "Epoch 16, CIFAR-10 Batch 2:  loss=0.618937 validation accuracy=0.636800\n",
      "Epoch 16, CIFAR-10 Batch 3:  loss=0.529162 validation accuracy=0.644600\n",
      "Epoch 16, CIFAR-10 Batch 4:  loss=0.504318 validation accuracy=0.634800\n",
      "Epoch 16, CIFAR-10 Batch 5:  loss=0.577323 validation accuracy=0.645600\n",
      "Epoch 17, CIFAR-10 Batch 1:  loss=0.603089 validation accuracy=0.630800\n",
      "Epoch 17, CIFAR-10 Batch 2:  loss=0.574188 validation accuracy=0.648000\n",
      "Epoch 17, CIFAR-10 Batch 3:  loss=0.497867 validation accuracy=0.644600\n",
      "Epoch 17, CIFAR-10 Batch 4:  loss=0.475604 validation accuracy=0.640600\n",
      "Epoch 17, CIFAR-10 Batch 5:  loss=0.563033 validation accuracy=0.639600\n",
      "Epoch 18, CIFAR-10 Batch 1:  loss=0.566113 validation accuracy=0.637800\n",
      "Epoch 18, CIFAR-10 Batch 2:  loss=0.598958 validation accuracy=0.619600\n",
      "Epoch 18, CIFAR-10 Batch 3:  loss=0.448237 validation accuracy=0.646000\n",
      "Epoch 18, CIFAR-10 Batch 4:  loss=0.429361 validation accuracy=0.642800\n",
      "Epoch 18, CIFAR-10 Batch 5:  loss=0.523360 validation accuracy=0.642800\n",
      "Epoch 19, CIFAR-10 Batch 1:  loss=0.580942 validation accuracy=0.645000\n",
      "Epoch 19, CIFAR-10 Batch 2:  loss=0.508585 validation accuracy=0.651600\n",
      "Epoch 19, CIFAR-10 Batch 3:  loss=0.404632 validation accuracy=0.648600\n",
      "Epoch 19, CIFAR-10 Batch 4:  loss=0.403073 validation accuracy=0.645400\n",
      "Epoch 19, CIFAR-10 Batch 5:  loss=0.514276 validation accuracy=0.633600\n",
      "Epoch 20, CIFAR-10 Batch 1:  loss=0.512546 validation accuracy=0.647600\n",
      "Epoch 20, CIFAR-10 Batch 2:  loss=0.510044 validation accuracy=0.647600\n",
      "Epoch 20, CIFAR-10 Batch 3:  loss=0.388448 validation accuracy=0.653800\n",
      "Epoch 20, CIFAR-10 Batch 4:  loss=0.381231 validation accuracy=0.648400\n",
      "Epoch 20, CIFAR-10 Batch 5:  loss=0.422800 validation accuracy=0.651800\n",
      "Epoch 21, CIFAR-10 Batch 1:  loss=0.493105 validation accuracy=0.649800\n",
      "Epoch 21, CIFAR-10 Batch 2:  loss=0.469056 validation accuracy=0.646600\n",
      "Epoch 21, CIFAR-10 Batch 3:  loss=0.366358 validation accuracy=0.648800\n",
      "Epoch 21, CIFAR-10 Batch 4:  loss=0.358702 validation accuracy=0.647000\n",
      "Epoch 21, CIFAR-10 Batch 5:  loss=0.375901 validation accuracy=0.652400\n",
      "Epoch 22, CIFAR-10 Batch 1:  loss=0.446970 validation accuracy=0.654200\n",
      "Epoch 22, CIFAR-10 Batch 2:  loss=0.424125 validation accuracy=0.647200\n",
      "Epoch 22, CIFAR-10 Batch 3:  loss=0.322463 validation accuracy=0.657000\n",
      "Epoch 22, CIFAR-10 Batch 4:  loss=0.320459 validation accuracy=0.655800\n",
      "Epoch 22, CIFAR-10 Batch 5:  loss=0.370980 validation accuracy=0.649800\n",
      "Epoch 23, CIFAR-10 Batch 1:  loss=0.449622 validation accuracy=0.636600\n",
      "Epoch 23, CIFAR-10 Batch 2:  loss=0.412288 validation accuracy=0.651200\n",
      "Epoch 23, CIFAR-10 Batch 3:  loss=0.264942 validation accuracy=0.660000\n"
     ]
    },
    {
     "name": "stdout",
     "output_type": "stream",
     "text": [
      "Epoch 23, CIFAR-10 Batch 4:  loss=0.291061 validation accuracy=0.655400\n",
      "Epoch 23, CIFAR-10 Batch 5:  loss=0.362363 validation accuracy=0.648200\n",
      "Epoch 24, CIFAR-10 Batch 1:  loss=0.377903 validation accuracy=0.656800\n",
      "Epoch 24, CIFAR-10 Batch 2:  loss=0.335088 validation accuracy=0.661200\n",
      "Epoch 24, CIFAR-10 Batch 3:  loss=0.261262 validation accuracy=0.655200\n",
      "Epoch 24, CIFAR-10 Batch 4:  loss=0.255086 validation accuracy=0.657600\n",
      "Epoch 24, CIFAR-10 Batch 5:  loss=0.314194 validation accuracy=0.650800\n",
      "Epoch 25, CIFAR-10 Batch 1:  loss=0.341803 validation accuracy=0.656000\n",
      "Epoch 25, CIFAR-10 Batch 2:  loss=0.313030 validation accuracy=0.660800\n",
      "Epoch 25, CIFAR-10 Batch 3:  loss=0.244985 validation accuracy=0.662600\n",
      "Epoch 25, CIFAR-10 Batch 4:  loss=0.272532 validation accuracy=0.649800\n",
      "Epoch 25, CIFAR-10 Batch 5:  loss=0.326783 validation accuracy=0.653600\n"
     ]
    }
   ],
   "source": [
    "\"\"\"\n",
    "DON'T MODIFY ANYTHING IN THIS CELL\n",
    "\"\"\"\n",
    "save_model_path = './image_classification'\n",
    "\n",
    "print('Training...')\n",
    "with tf.Session() as sess:\n",
    "    # Initializing the variables\n",
    "    sess.run(tf.global_variables_initializer())\n",
    "    \n",
    "    # Training cycle\n",
    "    for epoch in range(epochs):\n",
    "        # Loop over all batches\n",
    "        n_batches = 5\n",
    "        for batch_i in range(1, n_batches + 1):\n",
    "            for batch_features, batch_labels in helper.load_preprocess_training_batch(batch_i, batch_size):\n",
    "                train_neural_network(sess, optimizer, keep_probability, batch_features, batch_labels)\n",
    "            print('Epoch {:>2}, CIFAR-10 Batch {}:  '.format(epoch + 1, batch_i), end='')\n",
    "            print_stats(sess, batch_features, batch_labels, cost, accuracy)\n",
    "            \n",
    "    # Save Model\n",
    "    saver = tf.train.Saver()\n",
    "    save_path = saver.save(sess, save_model_path)"
   ]
  },
  {
   "cell_type": "markdown",
   "metadata": {},
   "source": [
    "# Checkpoint\n",
    "The model has been saved to disk.\n",
    "## Test Model\n",
    "Test your model against the test dataset.  This will be your final accuracy. You should have an accuracy greater than 50%. If you don't, keep tweaking the model architecture and parameters."
   ]
  },
  {
   "cell_type": "code",
   "execution_count": 18,
   "metadata": {},
   "outputs": [
    {
     "name": "stdout",
     "output_type": "stream",
     "text": [
      "Testing Accuracy: 0.6392520666122437\n",
      "\n"
     ]
    },
    {
     "data": {
      "image/png": "[encoded data removed]",
      "text/plain": [
       "<matplotlib.figure.Figure at 0x2a3a9f0cf28>"
      ]
     },
     "metadata": {
      "image/png": {
       "height": 319,
       "width": 355
      }
     },
     "output_type": "display_data"
    }
   ],
   "source": [
    "\"\"\"\n",
    "DON'T MODIFY ANYTHING IN THIS CELL\n",
    "\"\"\"\n",
    "%matplotlib inline\n",
    "%config InlineBackend.figure_format = 'retina'\n",
    "\n",
    "import tensorflow as tf\n",
    "import pickle\n",
    "import helper\n",
    "import random\n",
    "\n",
    "# Set batch size if not already set\n",
    "try:\n",
    "    if batch_size:\n",
    "        pass\n",
    "except NameError:\n",
    "    batch_size = 64\n",
    "\n",
    "save_model_path = './image_classification'\n",
    "n_samples = 4\n",
    "top_n_predictions = 3\n",
    "\n",
    "def test_model():\n",
    "    \"\"\"\n",
    "    Test the saved model against the test dataset\n",
    "    \"\"\"\n",
    "\n",
    "    test_features, test_labels = pickle.load(open('preprocess_test.p', mode='rb'))\n",
    "    loaded_graph = tf.Graph()\n",
    "\n",
    "    with tf.Session(graph=loaded_graph) as sess:\n",
    "        # Load model\n",
    "        loader = tf.train.import_meta_graph(save_model_path + '.meta')\n",
    "        loader.restore(sess, save_model_path)\n",
    "\n",
    "        # Get Tensors from loaded model\n",
    "        loaded_x = loaded_graph.get_tensor_by_name('x:0')\n",
    "        loaded_y = loaded_graph.get_tensor_by_name('y:0')\n",
    "        loaded_keep_prob = loaded_graph.get_tensor_by_name('keep_prob:0')\n",
    "        loaded_logits = loaded_graph.get_tensor_by_name('logits:0')\n",
    "        loaded_acc = loaded_graph.get_tensor_by_name('accuracy:0')\n",
    "        \n",
    "        # Get accuracy in batches for memory limitations\n",
    "        test_batch_acc_total = 0\n",
    "        test_batch_count = 0\n",
    "        \n",
    "        for test_feature_batch, test_label_batch in helper.batch_features_labels(test_features, test_labels, batch_size):\n",
    "            test_batch_acc_total += sess.run(\n",
    "                loaded_acc,\n",
    "                feed_dict={loaded_x: test_feature_batch, loaded_y: test_label_batch, loaded_keep_prob: 1.0})\n",
    "            test_batch_count += 1\n",
    "\n",
    "        print('Testing Accuracy: {}\\n'.format(test_batch_acc_total/test_batch_count))\n",
    "\n",
    "        # Print Random Samples\n",
    "        random_test_features, random_test_labels = tuple(zip(*random.sample(list(zip(test_features, test_labels)), n_samples)))\n",
    "        random_test_predictions = sess.run(\n",
    "            tf.nn.top_k(tf.nn.softmax(loaded_logits), top_n_predictions),\n",
    "            feed_dict={loaded_x: random_test_features, loaded_y: random_test_labels, loaded_keep_prob: 1.0})\n",
    "        helper.display_image_predictions(random_test_features, random_test_labels, random_test_predictions)\n",
    "\n",
    "\n",
    "test_model()"
   ]
  },
  {
   "cell_type": "markdown",
   "metadata": {},
   "source": [
    "## Why 50-80% Accuracy?\n",
    "You might be wondering why you can't get an accuracy any higher. First things first, 50% isn't bad for a simple CNN.  Pure guessing would get you 10% accuracy. However, you might notice people are getting scores [well above 80%](http://rodrigob.github.io/are_we_there_yet/build/classification_datasets_results.html#43494641522d3130).  That's because we haven't taught you all there is to know about neural networks. We still need to cover a few more techniques.\n",
    "## Submitting This Project\n",
    "When submitting this project, make sure to run all the cells before saving the notebook.  Save the notebook file as \"dlnd_image_classification.ipynb\" and save it as a HTML file under \"File\" -> \"Download as\".  Include the \"helper.py\" and \"problem_unittests.py\" files in your submission."
   ]
  },
  {
   "cell_type": "code",
   "execution_count": null,
   "metadata": {
    "collapsed": true
   },
   "outputs": [],
   "source": []
  }
 ],
 "metadata": {
  "kernelspec": {
   "display_name": "Python 3",
   "language": "python",
   "name": "python3"
  },
  "language_info": {
   "codemirror_mode": {
    "name": "ipython",
    "version": 3
   },
   "file_extension": ".py",
   "mimetype": "text/x-python",
   "name": "python",
   "nbconvert_exporter": "python",
   "pygments_lexer": "ipython3",
   "version": "3.5.3"
  }
 },
 "nbformat": 4,
 "nbformat_minor": 1
}
